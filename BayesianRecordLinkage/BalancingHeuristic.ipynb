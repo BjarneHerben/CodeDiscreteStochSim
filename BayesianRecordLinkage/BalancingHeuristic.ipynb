{
 "cells": [
  {
   "cell_type": "code",
   "execution_count": 1,
   "metadata": {},
   "outputs": [],
   "source": [
    "#Importing the required modules\n",
    "import numpy as np\n",
    "import numba\n",
    "import matplotlib.pyplot as plt\n",
    "from scipy.spatial.distance import hamming\n",
    "from time import time\n",
    "from BasicFunctions import *\n",
    "from TabuSampler import *\n"
   ]
  },
  {
   "cell_type": "code",
   "execution_count": 2,
   "metadata": {},
   "outputs": [
    {
     "name": "stdout",
     "output_type": "stream",
     "text": [
      "The length of the x database:  29\n",
      "The length of the y database:  26\n",
      "The golden truth p_match:  0.5975622036455879\n",
      "The number of generators:  754\n",
      "The first record of the x database:\n",
      "[3. 2. 2. 0. 2. 3. 0. 3. 4. 2. 1. 1. 2. 3. 3.]\n",
      "The first record of the y database:\n",
      "[1. 4. 2. 4. 2. 4. 1. 0. 4. 2. 1. 3. 4. 1. 2.]\n",
      "The golden truth M vector: \n",
      "[23. 21.  2.  0.  0.  4.  0. 11. 26. 16.  9. 10.  0.  0. 17. 20. 25. 22.\n",
      "  0.  0.  3. 18. 19. 14.  0. 13. 24.  0.  5.]\n"
     ]
    }
   ],
   "source": [
    "#Generating the database\n",
    "from DatabaseClass import create_databases\n",
    "\n",
    "#Global parameters used\n",
    "lmbd = 40\n",
    "l = 15 #The number of categories for each record\n",
    "p_cat = np.array([0.05, 0.15, 0.4, 0.2, 0.2]) #The pval vector for each category\n",
    "beta = 0.01\n",
    "\n",
    "p_match, x, y, M_truth, M_reverse_truth = create_databases(lmbd, l, p_cat, beta)\n",
    "\n",
    "#Other parameters that are needed\n",
    "N_1 = len(x)\n",
    "N_2 = len(y)\n",
    "num_gens = N_1*N_2\n",
    "\n",
    "print(\"The length of the x database: \",N_1)\n",
    "print(\"The length of the y database: \",N_2)\n",
    "print(\"The golden truth p_match: \", p_match)\n",
    "print(\"The number of generators: \", num_gens)\n",
    "print(\"The first record of the x database:\")\n",
    "print(x[0, :])\n",
    "print(\"The first record of the y database:\")\n",
    "print(y[0,:])\n",
    "print(\"The golden truth M vector: \")\n",
    "print(M_truth)"
   ]
  },
  {
   "cell_type": "code",
   "execution_count": 3,
   "metadata": {},
   "outputs": [
    {
     "name": "stdout",
     "output_type": "stream",
     "text": [
      "The randomly generated M vector:\n",
      "[ 0.  0.  0.  0.  0. 16.  0.  0.  0.  0.  0.  0.  0.  0.  0.  0. 22.  0.\n",
      "  0.  0.  0.  0.  0.  0.  0.  0.  0.  0.  0.]\n"
     ]
    }
   ],
   "source": [
    "#Generating an entirely random M vector\n",
    "M_random, M_reverse_random = random_state(N_1, N_2)\n",
    "\n",
    "print(\"The randomly generated M vector:\")\n",
    "print(M_random)"
   ]
  },
  {
   "cell_type": "code",
   "execution_count": 4,
   "metadata": {},
   "outputs": [],
   "source": [
    "#Defining some balancing functions\n",
    "barker = lambda t: t/(1+t)\n",
    "sqrt = lambda t: np.sqrt(t)\n",
    "id = lambda t: t"
   ]
  },
  {
   "cell_type": "code",
   "execution_count": 5,
   "metadata": {},
   "outputs": [
    {
     "name": "stdout",
     "output_type": "stream",
     "text": [
      "The value at this position would be:  43.25094254659652\n"
     ]
    }
   ],
   "source": [
    "#Testing this for the heuristic\n",
    "rates = rates_tabu(M_random, M_reverse_random, barker, lmbd, p_cat, l, beta, p_match, x, y, N_1, N_2)\n",
    "value = rates.sum()\n",
    "print(\"The value at this position would be: \",value)"
   ]
  },
  {
   "cell_type": "code",
   "execution_count": 6,
   "metadata": {},
   "outputs": [],
   "source": [
    "#Testing the jumping heuristic\n",
    "N = 100\n",
    "\n",
    "#Creating the randomly sampled array with M and M_reverse samples\n",
    "M_samples, M_reverse_samples = np.zeros((N,N_1)), np.zeros((N,N_2))\n",
    "\n",
    "for i in np.arange(0, N):\n",
    "    M_random, M_reverse_random = random_state(N_1, N_2)\n",
    "    M_samples[i,:] = M_random\n",
    "    M_reverse_samples[i,:] = M_reverse_random"
   ]
  },
  {
   "cell_type": "code",
   "execution_count": 7,
   "metadata": {},
   "outputs": [],
   "source": [
    "# Running the jumping heuristic for a few balancing functions\n",
    "values_id = jumping_heuristic(N, N_1, N_2, M_samples, M_reverse_samples, id, lmbd, p_match, p_cat, l, beta, x, y)\n",
    "values_barker = jumping_heuristic(N, N_1, N_2, M_samples, M_reverse_samples, barker, lmbd, p_match, p_cat, l, beta, x, y)\n",
    "values_sqrt = jumping_heuristic(N, N_1, N_2, M_samples, M_reverse_samples, sqrt, lmbd, p_match, p_cat, l, beta, x, y)"
   ]
  },
  {
   "cell_type": "code",
   "execution_count": 8,
   "metadata": {},
   "outputs": [
    {
     "data": {
      "text/plain": [
       "([<matplotlib.axis.XTick at 0x1525fe84a90>,\n",
       "  <matplotlib.axis.XTick at 0x1525fe84ca0>,\n",
       "  <matplotlib.axis.XTick at 0x152609731f0>],\n",
       " [Text(1, 0, 'Identity'), Text(2, 0, 'Barker'), Text(3, 0, 'Sqrt')])"
      ]
     },
     "execution_count": 8,
     "metadata": {},
     "output_type": "execute_result"
    },
    {
     "data": {
      "image/png": "[encoded data removed]",
      "text/plain": [
       "<Figure size 720x504 with 1 Axes>"
      ]
     },
     "metadata": {
      "needs_background": "light"
     },
     "output_type": "display_data"
    }
   ],
   "source": [
    "# Making a boxplot to compare these three balancing functions\n",
    "data = [values_id, values_barker, values_sqrt]\n",
    "\n",
    "%matplotlib inline\n",
    "plt.figure(figsize=(10, 7))\n",
    "plt.title('Boxplot of the jumping heuristic', fontsize=14, fontweight='bold')\n",
    "\n",
    "# Creating plot\n",
    "plt.boxplot(data)\n",
    "\n",
    "# Adding for which function it is\n",
    "plt.xticks([1,2,3], ['Identity', 'Barker', 'Sqrt'])\n",
    "\n",
    "\n"
   ]
  }
 ],
 "metadata": {
  "interpreter": {
   "hash": "f12ece7220a934ac2e09e366950125638378bdec382779a6c1044f75e14f975b"
  },
  "kernelspec": {
   "display_name": "Python 3.9.4 64-bit",
   "language": "python",
   "name": "python3"
  },
  "language_info": {
   "codemirror_mode": {
    "name": "ipython",
    "version": 3
   },
   "file_extension": ".py",
   "mimetype": "text/x-python",
   "name": "python",
   "nbconvert_exporter": "python",
   "pygments_lexer": "ipython3",
   "version": "3.9.4"
  },
  "orig_nbformat": 4
 },
 "nbformat": 4,
 "nbformat_minor": 2
}
